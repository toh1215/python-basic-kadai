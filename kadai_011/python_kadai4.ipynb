{
  "nbformat": 4,
  "nbformat_minor": 0,
  "metadata": {
    "colab": {
      "provenance": []
    },
    "kernelspec": {
      "name": "python3",
      "display_name": "Python 3"
    },
    "language_info": {
      "name": "python"
    }
  },
  "cells": [
    {
      "cell_type": "code",
      "execution_count": 9,
      "metadata": {
        "colab": {
          "base_uri": "https://localhost:8080/"
        },
        "id": "72tloRppFBI2",
        "outputId": "25cb7adb-0279-495e-ab04-e0b53d5d9d00"
      },
      "outputs": [
        {
          "output_type": "stream",
          "name": "stdout",
          "text": [
            "水\n",
            "金\n",
            "地\n",
            "火\n",
            "木\n",
            "土\n",
            "天\n",
            "界\n",
            "冥\n",
            "水\n",
            "金\n",
            "地\n",
            "火\n",
            "木\n",
            "土\n",
            "天\n",
            "界\n",
            "冥\n"
          ]
        }
      ],
      "source": [
        "# array配列の定義\n",
        "array = [\"水\", \"金\", \"地\", \"火\", \"木\", \"土\", \"天\", \"界\", \"冥\"]\n",
        "\n",
        "#array配列の要素(9個)を2周分表示させるため0～17を順に代入。18は代入されない。\n",
        "for i in range(0, 18):\n",
        "    # ループ変数iが9未満の場合、array配列を順番に出力\n",
        "    if(i < 9):\n",
        "      print(array[i])\n",
        "    # ループ変数iが9以上になる場合、9を引いた値をjに代入し、jをインデックスとしてarray配列を出力\n",
        "    elif(i >= 9):\n",
        "      j = i - 9\n",
        "      print(array[j])\n"
      ]
    },
    {
      "cell_type": "code",
      "source": [
        "#array配列の定義\n",
        "array = [\"水\", \"金\", \"地\", \"火\", \"木\", \"土\", \"天\", \"界\", \"冥\"]\n",
        "\n",
        "#ループ変数の初期化\n",
        "i = 0\n",
        "\n",
        "#ループ変数がarray配列2周分の18を下回る（0～17）値まで繰り返す\n",
        "while i < 18:\n",
        "  #ループ変数がarray配列要素個数の9未満の場合、ループ変数をインデックスとして出力\n",
        "  if(i < 9):\n",
        "      print(array[i])\n",
        "  #ループ変数が9以上の場合、9を引いた変数jをインデックスとして出力\n",
        "  elif(i >= 9):\n",
        "      j = i - 9\n",
        "      print(array[j])\n",
        "  #ループ変数に1を足して繰り返す\n",
        "  i += 1\n",
        "\n"
      ],
      "metadata": {
        "colab": {
          "base_uri": "https://localhost:8080/"
        },
        "id": "CJfj2-l2Go3I",
        "outputId": "27f28df8-a883-4c37-e99a-266799fcbe5d"
      },
      "execution_count": 15,
      "outputs": [
        {
          "output_type": "stream",
          "name": "stdout",
          "text": [
            "水\n",
            "金\n",
            "地\n",
            "火\n",
            "木\n",
            "土\n",
            "天\n",
            "界\n",
            "冥\n",
            "水\n",
            "金\n",
            "地\n",
            "火\n",
            "木\n",
            "土\n",
            "天\n",
            "界\n",
            "冥\n"
          ]
        }
      ]
    }
  ]
}