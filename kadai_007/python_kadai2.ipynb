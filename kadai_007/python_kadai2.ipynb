{
  "nbformat": 4,
  "nbformat_minor": 0,
  "metadata": {
    "colab": {
      "provenance": []
    },
    "kernelspec": {
      "name": "python3",
      "display_name": "Python 3"
    },
    "language_info": {
      "name": "python"
    }
  },
  "cells": [
    {
      "cell_type": "code",
      "execution_count": 5,
      "metadata": {
        "colab": {
          "base_uri": "https://localhost:8080/"
        },
        "id": "aq_vrPaIxRSy",
        "outputId": "40a51863-ee20-4c00-d3b0-f7822fc79d9c"
      },
      "outputs": [
        {
          "output_type": "stream",
          "name": "stdout",
          "text": [
            "火曜日は雨です\n",
            "['月曜日は晴れです', '火曜日は雨です', '水曜日は晴れです', '木曜日は晴れです', '金曜日は曇りです', '土曜日は曇のち雨です', '日曜日は雷雨です']\n",
            "曇のち雨\n",
            "{'mon': '晴れ', 'tue': '雨', 'wed': '晴れ', 'thu': '晴れ', 'fri': '曇り', 'sat': '曇のち雨', 'sun': '雷雨'}\n"
          ]
        }
      ],
      "source": [
        "# arrayリスト作成と表示\n",
        "array = [\"月曜日は晴れです\", \"火曜日は雨です\", \"水曜日は晴れです\", \"木曜日は晴れです\", \"金曜日は曇りです\", \"土曜日は曇のち雨です\", \"日曜日は雷雨です\"]\n",
        "print(array[1])\n",
        "print(array)\n",
        "\n",
        "# ディクショナリ作成と表示\n",
        "dictionary  = {\"mon\": \"晴れ\", \"tue\": \"雨\", \"wed\": \"晴れ\", \"thu\": \"晴れ\", \"fri\": \"曇り\", \"sat\": \"曇のち雨\", \"sun\": \"雷雨\"}\n",
        "print(dictionary[\"sat\"])\n",
        "print(dictionary)\n",
        "\n"
      ]
    }
  ]
}