{
  "nbformat": 4,
  "nbformat_minor": 0,
  "metadata": {
    "colab": {
      "provenance": []
    },
    "kernelspec": {
      "name": "python3",
      "display_name": "Python 3"
    },
    "language_info": {
      "name": "python"
    }
  },
  "cells": [
    {
      "cell_type": "code",
      "execution_count": 23,
      "metadata": {
        "colab": {
          "base_uri": "https://localhost:8080/"
        },
        "id": "edllKlNOKTSJ",
        "outputId": "acf5e546-8dce-496d-b6ce-0413afce74b1"
      },
      "outputs": [
        {
          "output_type": "stream",
          "name": "stdout",
          "text": [
            "佐藤は大人ではありません。\n",
            "田中は大人です。\n",
            "鈴木は大人です。\n",
            "伊藤は大人ではありません。\n"
          ]
        }
      ],
      "source": [
        "class Human:\n",
        "    def __init__(self):\n",
        "      self.name = \"\"\n",
        "      self.age = \"\"\n",
        "\n",
        "    def set_arguments(self, name, age):\n",
        "        self.name = name\n",
        "        self.age = age\n",
        "\n",
        "    def check_adult(self):\n",
        "        if(self.age >= 20):\n",
        "            print(f\"{self.name}は大人です。\")\n",
        "        else:\n",
        "            print(f\"{self.name}は大人ではありません。\")\n",
        "\n",
        "Satou = Human()\n",
        "Tanaka = Human()\n",
        "Suzuki = Human()\n",
        "Itou = Human()\n",
        "\n",
        "Satou.set_arguments(\"佐藤\", 18)\n",
        "Tanaka.set_arguments(\"田中\", 21)\n",
        "Suzuki.set_arguments(\"鈴木\", 25)\n",
        "Itou.set_arguments(\"伊藤\", 19)\n",
        "\n",
        "people_data = [Satou, Tanaka, Suzuki, Itou]\n",
        "\n",
        "for person in people_data:\n",
        "    person.check_adult()\n",
        "\n"
      ]
    }
  ]
}