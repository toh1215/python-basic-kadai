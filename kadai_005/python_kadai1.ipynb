{
  "nbformat": 4,
  "nbformat_minor": 0,
  "metadata": {
    "colab": {
      "provenance": []
    },
    "kernelspec": {
      "name": "python3",
      "display_name": "Python 3"
    },
    "language_info": {
      "name": "python"
    }
  },
  "cells": [
    {
      "cell_type": "code",
      "execution_count": 5,
      "metadata": {
        "colab": {
          "base_uri": "https://localhost:8080/"
        },
        "id": "uy3EbEZEPyqk",
        "outputId": "a6115ebc-5d84-47f7-9118-41f4f53b12ec"
      },
      "outputs": [
        {
          "output_type": "stream",
          "name": "stdout",
          "text": [
            "75cm²\n"
          ]
        }
      ],
      "source": [
        "# 上辺\n",
        "top_side = 10\n",
        "# 下辺\n",
        "bottom_side = 20\n",
        "# 高さ\n",
        "height  = 5\n",
        "\n",
        "# 公式：台形の面積 = (上辺 + 下辺) *　高さ / 2\n",
        "result = (top_side + bottom_side) * height /2\n",
        "print(f\"{int(result)}cm\\u00B2\")\n"
      ]
    }
  ]
}