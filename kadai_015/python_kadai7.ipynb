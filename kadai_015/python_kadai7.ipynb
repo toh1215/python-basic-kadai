{
  "nbformat": 4,
  "nbformat_minor": 0,
  "metadata": {
    "colab": {
      "provenance": []
    },
    "kernelspec": {
      "name": "python3",
      "display_name": "Python 3"
    },
    "language_info": {
      "name": "python"
    }
  },
  "cells": [
    {
      "cell_type": "code",
      "execution_count": 11,
      "metadata": {
        "colab": {
          "base_uri": "https://localhost:8080/"
        },
        "id": "7_CVETK6IWv7",
        "outputId": "29fa519b-2789-4ec0-9f17-9b57c1303edc"
      },
      "outputs": [
        {
          "output_type": "stream",
          "name": "stdout",
          "text": [
            "TanakaTakeshi\n",
            "30\n"
          ]
        }
      ],
      "source": [
        "class Human:\n",
        "    def __init__(self, name, age):\n",
        "        self.name = name\n",
        "        self.age = age\n",
        "\n",
        "    def printinfo(self):\n",
        "        print(self.name)\n",
        "        print(self.age)\n",
        "\n",
        "\n",
        "Tanaka = Human(\"TanakaTakeshi\", 30)\n",
        "Tanaka.printinfo()\n"
      ]
    },
    {
      "cell_type": "code",
      "source": [
        "class Human:\n",
        "    def __init__(self):\n",
        "        self.name = \"\"\n",
        "        self.age = \"\"\n",
        "\n",
        "    def set_arguments(self, name, age):\n",
        "        self.name = name\n",
        "        self.age = age\n",
        "\n",
        "    def printinfo(self):\n",
        "        print(self.name)\n",
        "        print(self.age)\n",
        "\n",
        "Tanaka = Human()\n",
        "\n",
        "Tanaka.set_arguments(\"TanakaTakeshi\", 30)\n",
        "Tanaka.printinfo()"
      ],
      "metadata": {
        "colab": {
          "base_uri": "https://localhost:8080/"
        },
        "id": "tgF4mtdtKdWR",
        "outputId": "7e65e04c-73f5-457f-fe2a-e2c6d81f7673"
      },
      "execution_count": 10,
      "outputs": [
        {
          "output_type": "stream",
          "name": "stdout",
          "text": [
            "TanakaTakeshi\n",
            "30\n"
          ]
        }
      ]
    }
  ]
}