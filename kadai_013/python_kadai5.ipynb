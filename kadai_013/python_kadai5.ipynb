{
  "nbformat": 4,
  "nbformat_minor": 0,
  "metadata": {
    "colab": {
      "provenance": []
    },
    "kernelspec": {
      "name": "python3",
      "display_name": "Python 3"
    },
    "language_info": {
      "name": "python"
    }
  },
  "cells": [
    {
      "cell_type": "code",
      "execution_count": 6,
      "metadata": {
        "colab": {
          "base_uri": "https://localhost:8080/"
        },
        "id": "jlAT3wHkUDMU",
        "outputId": "1730e806-3d3d-4433-88a3-e1e24de1ab94"
      },
      "outputs": [
        {
          "output_type": "execute_result",
          "data": {
            "text/plain": [
              "550.0"
            ]
          },
          "metadata": {},
          "execution_count": 6
        }
      ],
      "source": [
        "def has_pay(price:int, tax:int) -> int:\n",
        "    end_tax = tax * 0.01\n",
        "    return price + price * end_tax\n",
        "\n",
        "has_pay(500,10)"
      ]
    }
  ]
}